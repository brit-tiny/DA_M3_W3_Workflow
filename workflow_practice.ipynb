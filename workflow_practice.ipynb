{
 "cells": [
  {
   "cell_type": "markdown",
   "id": "e000d4dd",
   "metadata": {},
   "source": [
    "\n",
    "# Workflow Practice\n",
    "\n",
    "In this notebook, you’ll practice connecting to a SQLite database, creating tables from CSV files using Pandas, and writing SQL queries to explore the data.\n",
    "\n",
    "The dataset comes from the [Bike Store Sample Database](https://www.kaggle.com/datasets/dillonmyrick/bike-store-sample-database) by Dillon Myrick. It models a fictional bike retailer with multiple stores, products, customers, and staff. Each table connects to others using foreign keys such as `customer_id`, `store_id`, and `product_id`.\n",
    "\n",
    "You’ll:\n",
    "- Connect to a local SQLite database\n",
    "- Create tables using `pandas.to_sql()`\n",
    "- Write and test SQL queries using `pd.read_sql()`\n",
    "\n",
    "All of your work will take place directly in this notebook. Each question prompt is written below as a Markdown cell, followed by an empty code cell for you to write your query.\n"
   ]
  },
  {
   "cell_type": "markdown",
   "id": "add7b115",
   "metadata": {},
   "source": [
    "\n",
    "## Step 1: Connect to the Database\n",
    "\n",
    "Run the following cell to connect to (or create) a SQLite database called `bike_store.db`.  \n",
    "If the file doesn’t exist yet, SQLite will automatically create it.\n"
   ]
  },
  {
   "cell_type": "code",
   "execution_count": 1,
   "id": "60c456b9",
   "metadata": {},
   "outputs": [],
   "source": [
    "import sqlite3\n",
    "import pandas as pd"
   ]
  },
  {
   "cell_type": "code",
   "execution_count": 2,
   "id": "037392cc",
   "metadata": {},
   "outputs": [
    {
     "data": {
      "text/plain": [
       "<sqlite3.Connection at 0x1f9c504b6a0>"
      ]
     },
     "execution_count": 2,
     "metadata": {},
     "output_type": "execute_result"
    }
   ],
   "source": [
    "connection = sqlite3.connect(\"bike_store.db\")\n",
    "connection"
   ]
  },
  {
   "cell_type": "markdown",
   "id": "4489dd99",
   "metadata": {},
   "source": [
    "\n",
    "## Step 2: Create Tables from CSV Files\n",
    "\n",
    "The `data/` folder contains one CSV file per table.  \n",
    "Use `pandas.read_csv()` and `DataFrame.to_sql()` to load each file into your database.\n",
    "\n",
    "You only need to do this once.  \n",
    "After that, you’ll be able to run queries against your newly created tables.\n"
   ]
  },
  {
   "cell_type": "code",
   "execution_count": 3,
   "id": "3b768a75",
   "metadata": {},
   "outputs": [
    {
     "data": {
      "text/plain": [
       "1445"
      ]
     },
     "execution_count": 3,
     "metadata": {},
     "output_type": "execute_result"
    }
   ],
   "source": [
    "# Example for one file\n",
    "customers = pd.read_csv(\"data/customers.csv\")\n",
    "customers.to_sql(\"customers\", connection, if_exists=\"replace\", index=False)"
   ]
  },
  {
   "cell_type": "code",
   "execution_count": 4,
   "id": "0f3573be",
   "metadata": {},
   "outputs": [
    {
     "data": {
      "text/plain": [
       "9"
      ]
     },
     "execution_count": 4,
     "metadata": {},
     "output_type": "execute_result"
    }
   ],
   "source": [
    "# Repeat for all other files in the data folder, or use a loop.\n",
    "brands = pd.read_csv(\"data/brands.csv\")\n",
    "brands.to_sql(\"brands\", connection, if_exists=\"replace\", index=False)"
   ]
  },
  {
   "cell_type": "code",
   "execution_count": 5,
   "id": "cf1065ad",
   "metadata": {},
   "outputs": [
    {
     "data": {
      "text/plain": [
       "7"
      ]
     },
     "execution_count": 5,
     "metadata": {},
     "output_type": "execute_result"
    }
   ],
   "source": [
    "categories = pd.read_csv(\"data/categories.csv\")\n",
    "categories.to_sql(\"categories\", connection, if_exists=\"replace\", index=False)"
   ]
  },
  {
   "cell_type": "code",
   "execution_count": 6,
   "id": "72509bea",
   "metadata": {},
   "outputs": [
    {
     "data": {
      "text/plain": [
       "4722"
      ]
     },
     "execution_count": 6,
     "metadata": {},
     "output_type": "execute_result"
    }
   ],
   "source": [
    "order_items = pd.read_csv(\"data/order_items.csv\")\n",
    "order_items.to_sql(\"order_items\", connection, if_exists=\"replace\", index=False)"
   ]
  },
  {
   "cell_type": "code",
   "execution_count": 7,
   "id": "284f8759",
   "metadata": {},
   "outputs": [
    {
     "data": {
      "text/plain": [
       "1615"
      ]
     },
     "execution_count": 7,
     "metadata": {},
     "output_type": "execute_result"
    }
   ],
   "source": [
    "orders = pd.read_csv(\"data/orders.csv\")\n",
    "orders.to_sql(\"orders\", connection, if_exists=\"replace\", index=False)"
   ]
  },
  {
   "cell_type": "code",
   "execution_count": 8,
   "id": "accc2bee",
   "metadata": {},
   "outputs": [
    {
     "data": {
      "text/plain": [
       "321"
      ]
     },
     "execution_count": 8,
     "metadata": {},
     "output_type": "execute_result"
    }
   ],
   "source": [
    "products = pd.read_csv(\"data/products.csv\")\n",
    "products.to_sql(\"products\", connection, if_exists=\"replace\", index=False)"
   ]
  },
  {
   "cell_type": "code",
   "execution_count": 9,
   "id": "55841df1",
   "metadata": {},
   "outputs": [
    {
     "data": {
      "text/plain": [
       "10"
      ]
     },
     "execution_count": 9,
     "metadata": {},
     "output_type": "execute_result"
    }
   ],
   "source": [
    "staffs = pd.read_csv(\"data/staffs.csv\")\n",
    "staffs.to_sql(\"staffs\", connection, if_exists=\"replace\", index=False)"
   ]
  },
  {
   "cell_type": "code",
   "execution_count": 10,
   "id": "8c598ef1",
   "metadata": {},
   "outputs": [
    {
     "data": {
      "text/plain": [
       "939"
      ]
     },
     "execution_count": 10,
     "metadata": {},
     "output_type": "execute_result"
    }
   ],
   "source": [
    "stocks = pd.read_csv(\"data/stocks.csv\")\n",
    "stocks.to_sql(\"stocks\", connection, if_exists=\"replace\", index=False)"
   ]
  },
  {
   "cell_type": "code",
   "execution_count": 11,
   "id": "a0e073a0",
   "metadata": {},
   "outputs": [
    {
     "data": {
      "text/plain": [
       "3"
      ]
     },
     "execution_count": 11,
     "metadata": {},
     "output_type": "execute_result"
    }
   ],
   "source": [
    "stores = pd.read_csv(\"data/stores.csv\")\n",
    "stores.to_sql(\"stores\", connection, if_exists=\"replace\", index=False)"
   ]
  },
  {
   "cell_type": "markdown",
   "id": "ac539a94",
   "metadata": {},
   "source": [
    "### Verify Your Tables\n",
    "\n",
    "Run a query to make sure your tables were created successfully."
   ]
  },
  {
   "cell_type": "code",
   "execution_count": 12,
   "id": "e568988b",
   "metadata": {},
   "outputs": [
    {
     "data": {
      "text/html": [
       "<div>\n",
       "<style scoped>\n",
       "    .dataframe tbody tr th:only-of-type {\n",
       "        vertical-align: middle;\n",
       "    }\n",
       "\n",
       "    .dataframe tbody tr th {\n",
       "        vertical-align: top;\n",
       "    }\n",
       "\n",
       "    .dataframe thead th {\n",
       "        text-align: right;\n",
       "    }\n",
       "</style>\n",
       "<table border=\"1\" class=\"dataframe\">\n",
       "  <thead>\n",
       "    <tr style=\"text-align: right;\">\n",
       "      <th></th>\n",
       "      <th>name</th>\n",
       "    </tr>\n",
       "  </thead>\n",
       "  <tbody>\n",
       "    <tr>\n",
       "      <th>0</th>\n",
       "      <td>customers</td>\n",
       "    </tr>\n",
       "    <tr>\n",
       "      <th>1</th>\n",
       "      <td>brands</td>\n",
       "    </tr>\n",
       "    <tr>\n",
       "      <th>2</th>\n",
       "      <td>categories</td>\n",
       "    </tr>\n",
       "    <tr>\n",
       "      <th>3</th>\n",
       "      <td>order_items</td>\n",
       "    </tr>\n",
       "    <tr>\n",
       "      <th>4</th>\n",
       "      <td>orders</td>\n",
       "    </tr>\n",
       "    <tr>\n",
       "      <th>5</th>\n",
       "      <td>products</td>\n",
       "    </tr>\n",
       "    <tr>\n",
       "      <th>6</th>\n",
       "      <td>staffs</td>\n",
       "    </tr>\n",
       "    <tr>\n",
       "      <th>7</th>\n",
       "      <td>stocks</td>\n",
       "    </tr>\n",
       "    <tr>\n",
       "      <th>8</th>\n",
       "      <td>stores</td>\n",
       "    </tr>\n",
       "  </tbody>\n",
       "</table>\n",
       "</div>"
      ],
      "text/plain": [
       "          name\n",
       "0    customers\n",
       "1       brands\n",
       "2   categories\n",
       "3  order_items\n",
       "4       orders\n",
       "5     products\n",
       "6       staffs\n",
       "7       stocks\n",
       "8       stores"
      ]
     },
     "execution_count": 12,
     "metadata": {},
     "output_type": "execute_result"
    }
   ],
   "source": [
    "\n",
    "pd.read_sql(\"SELECT name FROM sqlite_master WHERE type='table';\", connection)\n"
   ]
  },
  {
   "cell_type": "markdown",
   "id": "3acbd6d4",
   "metadata": {},
   "source": []
  },
  {
   "cell_type": "markdown",
   "id": "75b6f1c1",
   "metadata": {},
   "source": [
    "## Step 3: Test a Simple Query\n",
    "\n",
    "Before starting the exercises, confirm your connection and tables are working by previewing the first few rows of the `customers` table."
   ]
  },
  {
   "cell_type": "code",
   "execution_count": 13,
   "id": "ea060534",
   "metadata": {},
   "outputs": [
    {
     "data": {
      "text/html": [
       "<div>\n",
       "<style scoped>\n",
       "    .dataframe tbody tr th:only-of-type {\n",
       "        vertical-align: middle;\n",
       "    }\n",
       "\n",
       "    .dataframe tbody tr th {\n",
       "        vertical-align: top;\n",
       "    }\n",
       "\n",
       "    .dataframe thead th {\n",
       "        text-align: right;\n",
       "    }\n",
       "</style>\n",
       "<table border=\"1\" class=\"dataframe\">\n",
       "  <thead>\n",
       "    <tr style=\"text-align: right;\">\n",
       "      <th></th>\n",
       "      <th>customer_id</th>\n",
       "      <th>first_name</th>\n",
       "      <th>last_name</th>\n",
       "      <th>phone</th>\n",
       "      <th>email</th>\n",
       "      <th>street</th>\n",
       "      <th>city</th>\n",
       "      <th>state</th>\n",
       "      <th>zip_code</th>\n",
       "    </tr>\n",
       "  </thead>\n",
       "  <tbody>\n",
       "    <tr>\n",
       "      <th>0</th>\n",
       "      <td>1</td>\n",
       "      <td>Debra</td>\n",
       "      <td>Burks</td>\n",
       "      <td>None</td>\n",
       "      <td>debra.burks@yahoo.com</td>\n",
       "      <td>9273 Thorne Ave.</td>\n",
       "      <td>Orchard Park</td>\n",
       "      <td>NY</td>\n",
       "      <td>14127</td>\n",
       "    </tr>\n",
       "    <tr>\n",
       "      <th>1</th>\n",
       "      <td>2</td>\n",
       "      <td>Kasha</td>\n",
       "      <td>Todd</td>\n",
       "      <td>None</td>\n",
       "      <td>kasha.todd@yahoo.com</td>\n",
       "      <td>910 Vine Street</td>\n",
       "      <td>Campbell</td>\n",
       "      <td>CA</td>\n",
       "      <td>95008</td>\n",
       "    </tr>\n",
       "    <tr>\n",
       "      <th>2</th>\n",
       "      <td>3</td>\n",
       "      <td>Tameka</td>\n",
       "      <td>Fisher</td>\n",
       "      <td>None</td>\n",
       "      <td>tameka.fisher@aol.com</td>\n",
       "      <td>769C Honey Creek St.</td>\n",
       "      <td>Redondo Beach</td>\n",
       "      <td>CA</td>\n",
       "      <td>90278</td>\n",
       "    </tr>\n",
       "    <tr>\n",
       "      <th>3</th>\n",
       "      <td>4</td>\n",
       "      <td>Daryl</td>\n",
       "      <td>Spence</td>\n",
       "      <td>None</td>\n",
       "      <td>daryl.spence@aol.com</td>\n",
       "      <td>988 Pearl Lane</td>\n",
       "      <td>Uniondale</td>\n",
       "      <td>NY</td>\n",
       "      <td>11553</td>\n",
       "    </tr>\n",
       "    <tr>\n",
       "      <th>4</th>\n",
       "      <td>5</td>\n",
       "      <td>Charolette</td>\n",
       "      <td>Rice</td>\n",
       "      <td>(916) 381-6003</td>\n",
       "      <td>charolette.rice@msn.com</td>\n",
       "      <td>107 River Dr.</td>\n",
       "      <td>Sacramento</td>\n",
       "      <td>CA</td>\n",
       "      <td>95820</td>\n",
       "    </tr>\n",
       "  </tbody>\n",
       "</table>\n",
       "</div>"
      ],
      "text/plain": [
       "   customer_id  first_name last_name           phone                    email  \\\n",
       "0            1       Debra     Burks            None    debra.burks@yahoo.com   \n",
       "1            2       Kasha      Todd            None     kasha.todd@yahoo.com   \n",
       "2            3      Tameka    Fisher            None    tameka.fisher@aol.com   \n",
       "3            4       Daryl    Spence            None     daryl.spence@aol.com   \n",
       "4            5  Charolette      Rice  (916) 381-6003  charolette.rice@msn.com   \n",
       "\n",
       "                  street           city state  zip_code  \n",
       "0      9273 Thorne Ave.    Orchard Park    NY     14127  \n",
       "1       910 Vine Street        Campbell    CA     95008  \n",
       "2  769C Honey Creek St.   Redondo Beach    CA     90278  \n",
       "3        988 Pearl Lane       Uniondale    NY     11553  \n",
       "4         107 River Dr.      Sacramento    CA     95820  "
      ]
     },
     "execution_count": 13,
     "metadata": {},
     "output_type": "execute_result"
    }
   ],
   "source": [
    "\n",
    "pd.read_sql(\"SELECT * FROM customers LIMIT 5;\", connection)\n"
   ]
  },
  {
   "cell_type": "markdown",
   "id": "cc482b0e",
   "metadata": {},
   "source": [
    "### Q1. List all customers and their cities.\n",
    "\n",
    "Return the first name, last name, and city of each customer. Sort alphabetically by last name and then by first name."
   ]
  },
  {
   "cell_type": "code",
   "execution_count": 14,
   "id": "a1a8715e",
   "metadata": {},
   "outputs": [
    {
     "data": {
      "text/html": [
       "<div>\n",
       "<style scoped>\n",
       "    .dataframe tbody tr th:only-of-type {\n",
       "        vertical-align: middle;\n",
       "    }\n",
       "\n",
       "    .dataframe tbody tr th {\n",
       "        vertical-align: top;\n",
       "    }\n",
       "\n",
       "    .dataframe thead th {\n",
       "        text-align: right;\n",
       "    }\n",
       "</style>\n",
       "<table border=\"1\" class=\"dataframe\">\n",
       "  <thead>\n",
       "    <tr style=\"text-align: right;\">\n",
       "      <th></th>\n",
       "      <th>first_name</th>\n",
       "      <th>last_name</th>\n",
       "      <th>city</th>\n",
       "    </tr>\n",
       "  </thead>\n",
       "  <tbody>\n",
       "    <tr>\n",
       "      <th>0</th>\n",
       "      <td>Ester</td>\n",
       "      <td>Acevedo</td>\n",
       "      <td>San Lorenzo</td>\n",
       "    </tr>\n",
       "    <tr>\n",
       "      <th>1</th>\n",
       "      <td>Jamika</td>\n",
       "      <td>Acevedo</td>\n",
       "      <td>Ozone Park</td>\n",
       "    </tr>\n",
       "    <tr>\n",
       "      <th>2</th>\n",
       "      <td>Penny</td>\n",
       "      <td>Acevedo</td>\n",
       "      <td>Ballston Spa</td>\n",
       "    </tr>\n",
       "    <tr>\n",
       "      <th>3</th>\n",
       "      <td>Bettyann</td>\n",
       "      <td>Acosta</td>\n",
       "      <td>Lancaster</td>\n",
       "    </tr>\n",
       "    <tr>\n",
       "      <th>4</th>\n",
       "      <td>Shery</td>\n",
       "      <td>Acosta</td>\n",
       "      <td>Saratoga Springs</td>\n",
       "    </tr>\n",
       "    <tr>\n",
       "      <th>...</th>\n",
       "      <td>...</td>\n",
       "      <td>...</td>\n",
       "      <td>...</td>\n",
       "    </tr>\n",
       "    <tr>\n",
       "      <th>1440</th>\n",
       "      <td>Edda</td>\n",
       "      <td>Young</td>\n",
       "      <td>North Tonawanda</td>\n",
       "    </tr>\n",
       "    <tr>\n",
       "      <th>1441</th>\n",
       "      <td>Jasmin</td>\n",
       "      <td>Young</td>\n",
       "      <td>Helotes</td>\n",
       "    </tr>\n",
       "    <tr>\n",
       "      <th>1442</th>\n",
       "      <td>Alexandria</td>\n",
       "      <td>Zamora</td>\n",
       "      <td>Schenectady</td>\n",
       "    </tr>\n",
       "    <tr>\n",
       "      <th>1443</th>\n",
       "      <td>Jayme</td>\n",
       "      <td>Zamora</td>\n",
       "      <td>Springfield Gardens</td>\n",
       "    </tr>\n",
       "    <tr>\n",
       "      <th>1444</th>\n",
       "      <td>Ollie</td>\n",
       "      <td>Zimmerman</td>\n",
       "      <td>Anaheim</td>\n",
       "    </tr>\n",
       "  </tbody>\n",
       "</table>\n",
       "<p>1445 rows × 3 columns</p>\n",
       "</div>"
      ],
      "text/plain": [
       "      first_name  last_name                 city\n",
       "0          Ester    Acevedo          San Lorenzo\n",
       "1         Jamika    Acevedo           Ozone Park\n",
       "2          Penny    Acevedo         Ballston Spa\n",
       "3       Bettyann     Acosta            Lancaster\n",
       "4          Shery     Acosta     Saratoga Springs\n",
       "...          ...        ...                  ...\n",
       "1440        Edda      Young      North Tonawanda\n",
       "1441      Jasmin      Young              Helotes\n",
       "1442  Alexandria     Zamora          Schenectady\n",
       "1443       Jayme     Zamora  Springfield Gardens\n",
       "1444       Ollie  Zimmerman              Anaheim\n",
       "\n",
       "[1445 rows x 3 columns]"
      ]
     },
     "execution_count": 14,
     "metadata": {},
     "output_type": "execute_result"
    }
   ],
   "source": [
    "# Your query here\n",
    "pd.read_sql(\"select first_name, last_name, city from customers order by last_name ASC, first_name ASC;\", connection)"
   ]
  },
  {
   "cell_type": "markdown",
   "id": "d41b3f09",
   "metadata": {},
   "source": [
    "### Q2. Show all products and their prices.\n",
    "\n",
    "Display each product name along with its list price. Sort by price in descending order."
   ]
  },
  {
   "cell_type": "code",
   "execution_count": 15,
   "id": "3917207d",
   "metadata": {},
   "outputs": [
    {
     "data": {
      "text/html": [
       "<div>\n",
       "<style scoped>\n",
       "    .dataframe tbody tr th:only-of-type {\n",
       "        vertical-align: middle;\n",
       "    }\n",
       "\n",
       "    .dataframe tbody tr th {\n",
       "        vertical-align: top;\n",
       "    }\n",
       "\n",
       "    .dataframe thead th {\n",
       "        text-align: right;\n",
       "    }\n",
       "</style>\n",
       "<table border=\"1\" class=\"dataframe\">\n",
       "  <thead>\n",
       "    <tr style=\"text-align: right;\">\n",
       "      <th></th>\n",
       "      <th>product_name</th>\n",
       "      <th>list_price</th>\n",
       "    </tr>\n",
       "  </thead>\n",
       "  <tbody>\n",
       "    <tr>\n",
       "      <th>0</th>\n",
       "      <td>Trek Domane SLR 9 Disc - 2018</td>\n",
       "      <td>11999.99</td>\n",
       "    </tr>\n",
       "    <tr>\n",
       "      <th>1</th>\n",
       "      <td>Trek Domane SLR 8 Disc - 2018</td>\n",
       "      <td>7499.99</td>\n",
       "    </tr>\n",
       "    <tr>\n",
       "      <th>2</th>\n",
       "      <td>Trek Silque SLR 8 Women's - 2017</td>\n",
       "      <td>6499.99</td>\n",
       "    </tr>\n",
       "    <tr>\n",
       "      <th>3</th>\n",
       "      <td>Trek Domane SL Frameset - 2018</td>\n",
       "      <td>6499.99</td>\n",
       "    </tr>\n",
       "    <tr>\n",
       "      <th>4</th>\n",
       "      <td>Trek Domane SL Frameset Women's - 2018</td>\n",
       "      <td>6499.99</td>\n",
       "    </tr>\n",
       "    <tr>\n",
       "      <th>...</th>\n",
       "      <td>...</td>\n",
       "      <td>...</td>\n",
       "    </tr>\n",
       "    <tr>\n",
       "      <th>316</th>\n",
       "      <td>Trek Kickster - 2018</td>\n",
       "      <td>159.99</td>\n",
       "    </tr>\n",
       "    <tr>\n",
       "      <th>317</th>\n",
       "      <td>Trek Boy's Kickster - 2015/2017</td>\n",
       "      <td>149.99</td>\n",
       "    </tr>\n",
       "    <tr>\n",
       "      <th>318</th>\n",
       "      <td>Trek Girl's Kickster - 2017</td>\n",
       "      <td>149.99</td>\n",
       "    </tr>\n",
       "    <tr>\n",
       "      <th>319</th>\n",
       "      <td>Sun Bicycles Lil Kitt'n - 2017</td>\n",
       "      <td>109.99</td>\n",
       "    </tr>\n",
       "    <tr>\n",
       "      <th>320</th>\n",
       "      <td>Strider Classic 12 Balance Bike - 2018</td>\n",
       "      <td>89.99</td>\n",
       "    </tr>\n",
       "  </tbody>\n",
       "</table>\n",
       "<p>321 rows × 2 columns</p>\n",
       "</div>"
      ],
      "text/plain": [
       "                               product_name  list_price\n",
       "0             Trek Domane SLR 9 Disc - 2018    11999.99\n",
       "1             Trek Domane SLR 8 Disc - 2018     7499.99\n",
       "2          Trek Silque SLR 8 Women's - 2017     6499.99\n",
       "3            Trek Domane SL Frameset - 2018     6499.99\n",
       "4    Trek Domane SL Frameset Women's - 2018     6499.99\n",
       "..                                      ...         ...\n",
       "316                    Trek Kickster - 2018      159.99\n",
       "317         Trek Boy's Kickster - 2015/2017      149.99\n",
       "318             Trek Girl's Kickster - 2017      149.99\n",
       "319          Sun Bicycles Lil Kitt'n - 2017      109.99\n",
       "320  Strider Classic 12 Balance Bike - 2018       89.99\n",
       "\n",
       "[321 rows x 2 columns]"
      ]
     },
     "execution_count": 15,
     "metadata": {},
     "output_type": "execute_result"
    }
   ],
   "source": [
    "# Your query here\n",
    "pd.read_sql(\"select product_name, list_price from products order by list_price desc;\", connection)"
   ]
  },
  {
   "cell_type": "markdown",
   "id": "82c12eab",
   "metadata": {},
   "source": [
    "### Q3. Find all customers from California.\n",
    "\n",
    "Return first name, last name, city, and state for all customers whose state is 'CA'. Sort alphabetically by last name."
   ]
  },
  {
   "cell_type": "code",
   "execution_count": 16,
   "id": "4d14e73b",
   "metadata": {},
   "outputs": [
    {
     "data": {
      "text/html": [
       "<div>\n",
       "<style scoped>\n",
       "    .dataframe tbody tr th:only-of-type {\n",
       "        vertical-align: middle;\n",
       "    }\n",
       "\n",
       "    .dataframe tbody tr th {\n",
       "        vertical-align: top;\n",
       "    }\n",
       "\n",
       "    .dataframe thead th {\n",
       "        text-align: right;\n",
       "    }\n",
       "</style>\n",
       "<table border=\"1\" class=\"dataframe\">\n",
       "  <thead>\n",
       "    <tr style=\"text-align: right;\">\n",
       "      <th></th>\n",
       "      <th>first_name</th>\n",
       "      <th>last_name</th>\n",
       "      <th>city</th>\n",
       "      <th>state</th>\n",
       "    </tr>\n",
       "  </thead>\n",
       "  <tbody>\n",
       "    <tr>\n",
       "      <th>0</th>\n",
       "      <td>Ester</td>\n",
       "      <td>Acevedo</td>\n",
       "      <td>San Lorenzo</td>\n",
       "      <td>CA</td>\n",
       "    </tr>\n",
       "    <tr>\n",
       "      <th>1</th>\n",
       "      <td>Jamaal</td>\n",
       "      <td>Albert</td>\n",
       "      <td>Torrance</td>\n",
       "      <td>CA</td>\n",
       "    </tr>\n",
       "    <tr>\n",
       "      <th>2</th>\n",
       "      <td>Sindy</td>\n",
       "      <td>Anderson</td>\n",
       "      <td>Pomona</td>\n",
       "      <td>CA</td>\n",
       "    </tr>\n",
       "    <tr>\n",
       "      <th>3</th>\n",
       "      <td>Twana</td>\n",
       "      <td>Arnold</td>\n",
       "      <td>Anaheim</td>\n",
       "      <td>CA</td>\n",
       "    </tr>\n",
       "    <tr>\n",
       "      <th>4</th>\n",
       "      <td>Selene</td>\n",
       "      <td>Austin</td>\n",
       "      <td>Duarte</td>\n",
       "      <td>CA</td>\n",
       "    </tr>\n",
       "    <tr>\n",
       "      <th>...</th>\n",
       "      <td>...</td>\n",
       "      <td>...</td>\n",
       "      <td>...</td>\n",
       "      <td>...</td>\n",
       "    </tr>\n",
       "    <tr>\n",
       "      <th>279</th>\n",
       "      <td>Darren</td>\n",
       "      <td>Witt</td>\n",
       "      <td>Coachella</td>\n",
       "      <td>CA</td>\n",
       "    </tr>\n",
       "    <tr>\n",
       "      <th>280</th>\n",
       "      <td>Lucy</td>\n",
       "      <td>Woods</td>\n",
       "      <td>Palos Verdes Peninsula</td>\n",
       "      <td>CA</td>\n",
       "    </tr>\n",
       "    <tr>\n",
       "      <th>281</th>\n",
       "      <td>Joel</td>\n",
       "      <td>Wynn</td>\n",
       "      <td>San Diego</td>\n",
       "      <td>CA</td>\n",
       "    </tr>\n",
       "    <tr>\n",
       "      <th>282</th>\n",
       "      <td>Yvone</td>\n",
       "      <td>Yates</td>\n",
       "      <td>San Pablo</td>\n",
       "      <td>CA</td>\n",
       "    </tr>\n",
       "    <tr>\n",
       "      <th>283</th>\n",
       "      <td>Ollie</td>\n",
       "      <td>Zimmerman</td>\n",
       "      <td>Anaheim</td>\n",
       "      <td>CA</td>\n",
       "    </tr>\n",
       "  </tbody>\n",
       "</table>\n",
       "<p>284 rows × 4 columns</p>\n",
       "</div>"
      ],
      "text/plain": [
       "    first_name  last_name                    city state\n",
       "0        Ester    Acevedo             San Lorenzo    CA\n",
       "1       Jamaal     Albert                Torrance    CA\n",
       "2        Sindy   Anderson                  Pomona    CA\n",
       "3        Twana     Arnold                 Anaheim    CA\n",
       "4       Selene     Austin                  Duarte    CA\n",
       "..         ...        ...                     ...   ...\n",
       "279     Darren       Witt               Coachella    CA\n",
       "280       Lucy      Woods  Palos Verdes Peninsula    CA\n",
       "281       Joel       Wynn               San Diego    CA\n",
       "282      Yvone      Yates               San Pablo    CA\n",
       "283      Ollie  Zimmerman                 Anaheim    CA\n",
       "\n",
       "[284 rows x 4 columns]"
      ]
     },
     "execution_count": 16,
     "metadata": {},
     "output_type": "execute_result"
    }
   ],
   "source": [
    "pd.read_sql(\"select first_name, last_name, city, state from customers where state = 'CA' order by last_name ASC;\", connection)"
   ]
  },
  {
   "cell_type": "markdown",
   "id": "a17d84bc",
   "metadata": {},
   "source": [
    "### Q4. Count how many products are in each category.\n",
    "\n",
    "Return the category name and the number of products in that category. Sort from the highest count to the lowest."
   ]
  },
  {
   "cell_type": "code",
   "execution_count": 17,
   "id": "b56ebade",
   "metadata": {},
   "outputs": [
    {
     "data": {
      "text/html": [
       "<div>\n",
       "<style scoped>\n",
       "    .dataframe tbody tr th:only-of-type {\n",
       "        vertical-align: middle;\n",
       "    }\n",
       "\n",
       "    .dataframe tbody tr th {\n",
       "        vertical-align: top;\n",
       "    }\n",
       "\n",
       "    .dataframe thead th {\n",
       "        text-align: right;\n",
       "    }\n",
       "</style>\n",
       "<table border=\"1\" class=\"dataframe\">\n",
       "  <thead>\n",
       "    <tr style=\"text-align: right;\">\n",
       "      <th></th>\n",
       "      <th>category_name</th>\n",
       "      <th>product_count</th>\n",
       "    </tr>\n",
       "  </thead>\n",
       "  <tbody>\n",
       "    <tr>\n",
       "      <th>0</th>\n",
       "      <td>Cruisers Bicycles</td>\n",
       "      <td>78</td>\n",
       "    </tr>\n",
       "    <tr>\n",
       "      <th>1</th>\n",
       "      <td>Road Bikes</td>\n",
       "      <td>60</td>\n",
       "    </tr>\n",
       "    <tr>\n",
       "      <th>2</th>\n",
       "      <td>Mountain Bikes</td>\n",
       "      <td>60</td>\n",
       "    </tr>\n",
       "    <tr>\n",
       "      <th>3</th>\n",
       "      <td>Children Bicycles</td>\n",
       "      <td>59</td>\n",
       "    </tr>\n",
       "    <tr>\n",
       "      <th>4</th>\n",
       "      <td>Comfort Bicycles</td>\n",
       "      <td>30</td>\n",
       "    </tr>\n",
       "    <tr>\n",
       "      <th>5</th>\n",
       "      <td>Electric Bikes</td>\n",
       "      <td>24</td>\n",
       "    </tr>\n",
       "    <tr>\n",
       "      <th>6</th>\n",
       "      <td>Cyclocross Bicycles</td>\n",
       "      <td>10</td>\n",
       "    </tr>\n",
       "  </tbody>\n",
       "</table>\n",
       "</div>"
      ],
      "text/plain": [
       "         category_name  product_count\n",
       "0    Cruisers Bicycles             78\n",
       "1           Road Bikes             60\n",
       "2       Mountain Bikes             60\n",
       "3    Children Bicycles             59\n",
       "4     Comfort Bicycles             30\n",
       "5       Electric Bikes             24\n",
       "6  Cyclocross Bicycles             10"
      ]
     },
     "execution_count": 17,
     "metadata": {},
     "output_type": "execute_result"
    }
   ],
   "source": [
    "# Your query here\n",
    "pd.read_sql(\"select c.category_name, count(p.product_id) as product_count from categories as c join products as p on c.category_id = p.category_id group by c.category_name order by product_count DESC;\", connection)"
   ]
  },
  {
   "cell_type": "markdown",
   "id": "31c51ad9",
   "metadata": {},
   "source": [
    "### Q5. Find all orders placed in 2018.\n",
    "\n",
    "List the order ID, order date, and customer ID for orders made during the year 2018. Sort by order date."
   ]
  },
  {
   "cell_type": "code",
   "execution_count": 18,
   "id": "85b52651",
   "metadata": {},
   "outputs": [
    {
     "data": {
      "text/html": [
       "<div>\n",
       "<style scoped>\n",
       "    .dataframe tbody tr th:only-of-type {\n",
       "        vertical-align: middle;\n",
       "    }\n",
       "\n",
       "    .dataframe tbody tr th {\n",
       "        vertical-align: top;\n",
       "    }\n",
       "\n",
       "    .dataframe thead th {\n",
       "        text-align: right;\n",
       "    }\n",
       "</style>\n",
       "<table border=\"1\" class=\"dataframe\">\n",
       "  <thead>\n",
       "    <tr style=\"text-align: right;\">\n",
       "      <th></th>\n",
       "      <th>order_id</th>\n",
       "      <th>customer_id</th>\n",
       "    </tr>\n",
       "  </thead>\n",
       "  <tbody>\n",
       "    <tr>\n",
       "      <th>0</th>\n",
       "      <td>1615</td>\n",
       "      <td>136</td>\n",
       "    </tr>\n",
       "    <tr>\n",
       "      <th>1</th>\n",
       "      <td>1614</td>\n",
       "      <td>135</td>\n",
       "    </tr>\n",
       "    <tr>\n",
       "      <th>2</th>\n",
       "      <td>1613</td>\n",
       "      <td>1</td>\n",
       "    </tr>\n",
       "    <tr>\n",
       "      <th>3</th>\n",
       "      <td>1612</td>\n",
       "      <td>3</td>\n",
       "    </tr>\n",
       "    <tr>\n",
       "      <th>4</th>\n",
       "      <td>1611</td>\n",
       "      <td>6</td>\n",
       "    </tr>\n",
       "    <tr>\n",
       "      <th>...</th>\n",
       "      <td>...</td>\n",
       "      <td>...</td>\n",
       "    </tr>\n",
       "    <tr>\n",
       "      <th>287</th>\n",
       "      <td>1327</td>\n",
       "      <td>1026</td>\n",
       "    </tr>\n",
       "    <tr>\n",
       "      <th>288</th>\n",
       "      <td>1328</td>\n",
       "      <td>1083</td>\n",
       "    </tr>\n",
       "    <tr>\n",
       "      <th>289</th>\n",
       "      <td>1324</td>\n",
       "      <td>862</td>\n",
       "    </tr>\n",
       "    <tr>\n",
       "      <th>290</th>\n",
       "      <td>1325</td>\n",
       "      <td>68</td>\n",
       "    </tr>\n",
       "    <tr>\n",
       "      <th>291</th>\n",
       "      <td>1326</td>\n",
       "      <td>567</td>\n",
       "    </tr>\n",
       "  </tbody>\n",
       "</table>\n",
       "<p>292 rows × 2 columns</p>\n",
       "</div>"
      ],
      "text/plain": [
       "     order_id  customer_id\n",
       "0        1615          136\n",
       "1        1614          135\n",
       "2        1613            1\n",
       "3        1612            3\n",
       "4        1611            6\n",
       "..        ...          ...\n",
       "287      1327         1026\n",
       "288      1328         1083\n",
       "289      1324          862\n",
       "290      1325           68\n",
       "291      1326          567\n",
       "\n",
       "[292 rows x 2 columns]"
      ]
     },
     "execution_count": 18,
     "metadata": {},
     "output_type": "execute_result"
    }
   ],
   "source": [
    "# Your query here\n",
    "pd.read_sql(\"select order_id, customer_id from orders where order_date between '2018-01-01' and '2018-31-12' order by order_date DESC;\", connection)"
   ]
  },
  {
   "cell_type": "markdown",
   "id": "33773e61",
   "metadata": {},
   "source": [
    "### Q6. Show each order with its total number of items.\n",
    "\n",
    "Join the `orders` and `order_items` tables. Group by order ID and return the number of items per order."
   ]
  },
  {
   "cell_type": "code",
   "execution_count": 19,
   "id": "4598af04",
   "metadata": {},
   "outputs": [
    {
     "data": {
      "text/html": [
       "<div>\n",
       "<style scoped>\n",
       "    .dataframe tbody tr th:only-of-type {\n",
       "        vertical-align: middle;\n",
       "    }\n",
       "\n",
       "    .dataframe tbody tr th {\n",
       "        vertical-align: top;\n",
       "    }\n",
       "\n",
       "    .dataframe thead th {\n",
       "        text-align: right;\n",
       "    }\n",
       "</style>\n",
       "<table border=\"1\" class=\"dataframe\">\n",
       "  <thead>\n",
       "    <tr style=\"text-align: right;\">\n",
       "      <th></th>\n",
       "      <th>order_id</th>\n",
       "      <th>number_of_items</th>\n",
       "    </tr>\n",
       "  </thead>\n",
       "  <tbody>\n",
       "    <tr>\n",
       "      <th>0</th>\n",
       "      <td>1</td>\n",
       "      <td>4717</td>\n",
       "    </tr>\n",
       "    <tr>\n",
       "      <th>1</th>\n",
       "      <td>2</td>\n",
       "      <td>4720</td>\n",
       "    </tr>\n",
       "    <tr>\n",
       "      <th>2</th>\n",
       "      <td>3</td>\n",
       "      <td>4720</td>\n",
       "    </tr>\n",
       "    <tr>\n",
       "      <th>3</th>\n",
       "      <td>4</td>\n",
       "      <td>4721</td>\n",
       "    </tr>\n",
       "    <tr>\n",
       "      <th>4</th>\n",
       "      <td>5</td>\n",
       "      <td>4719</td>\n",
       "    </tr>\n",
       "    <tr>\n",
       "      <th>...</th>\n",
       "      <td>...</td>\n",
       "      <td>...</td>\n",
       "    </tr>\n",
       "    <tr>\n",
       "      <th>1610</th>\n",
       "      <td>1611</td>\n",
       "      <td>4719</td>\n",
       "    </tr>\n",
       "    <tr>\n",
       "      <th>1611</th>\n",
       "      <td>1612</td>\n",
       "      <td>4717</td>\n",
       "    </tr>\n",
       "    <tr>\n",
       "      <th>1612</th>\n",
       "      <td>1613</td>\n",
       "      <td>4720</td>\n",
       "    </tr>\n",
       "    <tr>\n",
       "      <th>1613</th>\n",
       "      <td>1614</td>\n",
       "      <td>4719</td>\n",
       "    </tr>\n",
       "    <tr>\n",
       "      <th>1614</th>\n",
       "      <td>1615</td>\n",
       "      <td>4719</td>\n",
       "    </tr>\n",
       "  </tbody>\n",
       "</table>\n",
       "<p>1615 rows × 2 columns</p>\n",
       "</div>"
      ],
      "text/plain": [
       "      order_id  number_of_items\n",
       "0            1             4717\n",
       "1            2             4720\n",
       "2            3             4720\n",
       "3            4             4721\n",
       "4            5             4719\n",
       "...        ...              ...\n",
       "1610      1611             4719\n",
       "1611      1612             4717\n",
       "1612      1613             4720\n",
       "1613      1614             4719\n",
       "1614      1615             4719\n",
       "\n",
       "[1615 rows x 2 columns]"
      ]
     },
     "execution_count": 19,
     "metadata": {},
     "output_type": "execute_result"
    }
   ],
   "source": [
    "# Your query here\n",
    "pd.read_sql(\"select o.order_id, count(oi.item_id) as number_of_items from orders as o join order_items as oi on o.order_id - oi.order_id group by o.order_id order by o.order_id;\", connection)"
   ]
  },
  {
   "cell_type": "markdown",
   "id": "cfc4e1e3",
   "metadata": {},
   "source": [
    "### Q7. List total revenue per store.\n",
    "\n",
    "Revenue = quantity * list_price * (1 - discount). Join `orders`, `order_items`, and `stores`, group by store name, and return total revenue."
   ]
  },
  {
   "cell_type": "code",
   "execution_count": 20,
   "id": "ea2b6bcf",
   "metadata": {},
   "outputs": [
    {
     "data": {
      "text/html": [
       "<div>\n",
       "<style scoped>\n",
       "    .dataframe tbody tr th:only-of-type {\n",
       "        vertical-align: middle;\n",
       "    }\n",
       "\n",
       "    .dataframe tbody tr th {\n",
       "        vertical-align: top;\n",
       "    }\n",
       "\n",
       "    .dataframe thead th {\n",
       "        text-align: right;\n",
       "    }\n",
       "</style>\n",
       "<table border=\"1\" class=\"dataframe\">\n",
       "  <thead>\n",
       "    <tr style=\"text-align: right;\">\n",
       "      <th></th>\n",
       "      <th>store_name</th>\n",
       "      <th>total_revenue</th>\n",
       "    </tr>\n",
       "  </thead>\n",
       "  <tbody>\n",
       "    <tr>\n",
       "      <th>0</th>\n",
       "      <td>Santa Cruz Bikes</td>\n",
       "      <td>10231.0464</td>\n",
       "    </tr>\n",
       "    <tr>\n",
       "      <th>1</th>\n",
       "      <td>Baldwin Bikes</td>\n",
       "      <td>1697.9717</td>\n",
       "    </tr>\n",
       "    <tr>\n",
       "      <th>2</th>\n",
       "      <td>Rowlett Bikes</td>\n",
       "      <td>1519.9810</td>\n",
       "    </tr>\n",
       "  </tbody>\n",
       "</table>\n",
       "</div>"
      ],
      "text/plain": [
       "         store_name  total_revenue\n",
       "0  Santa Cruz Bikes     10231.0464\n",
       "1     Baldwin Bikes      1697.9717\n",
       "2     Rowlett Bikes      1519.9810"
      ]
     },
     "execution_count": 20,
     "metadata": {},
     "output_type": "execute_result"
    }
   ],
   "source": [
    "# Your query here\n",
    "pd.read_sql(\"select stores.store_name, sum(order_items.quantity * order_items.list_price * (1 - order_items.discount)) as total_revenue from orders join order_items on orders.order_id = order_items.order_id join stores on orders.order_id = stores.store_id group by stores.store_name order by total_revenue DESC;\", connection)"
   ]
  },
  {
   "cell_type": "markdown",
   "id": "eede1c10",
   "metadata": {},
   "source": [
    "### Q8. Find the top 5 customers who spent the most overall.\n",
    "\n",
    "Join `customers`, `orders`, and `order_items`. Sum the total spending per customer and return the top five spenders."
   ]
  },
  {
   "cell_type": "code",
   "execution_count": 31,
   "id": "66dffb1d",
   "metadata": {},
   "outputs": [
    {
     "data": {
      "text/html": [
       "<div>\n",
       "<style scoped>\n",
       "    .dataframe tbody tr th:only-of-type {\n",
       "        vertical-align: middle;\n",
       "    }\n",
       "\n",
       "    .dataframe tbody tr th {\n",
       "        vertical-align: top;\n",
       "    }\n",
       "\n",
       "    .dataframe thead th {\n",
       "        text-align: right;\n",
       "    }\n",
       "</style>\n",
       "<table border=\"1\" class=\"dataframe\">\n",
       "  <thead>\n",
       "    <tr style=\"text-align: right;\">\n",
       "      <th></th>\n",
       "      <th>first_name</th>\n",
       "      <th>last_name</th>\n",
       "      <th>total_spent</th>\n",
       "    </tr>\n",
       "  </thead>\n",
       "  <tbody>\n",
       "    <tr>\n",
       "      <th>0</th>\n",
       "      <td>Sharyn</td>\n",
       "      <td>Hopkins</td>\n",
       "      <td>34807.9392</td>\n",
       "    </tr>\n",
       "    <tr>\n",
       "      <th>1</th>\n",
       "      <td>Pamelia</td>\n",
       "      <td>Newman</td>\n",
       "      <td>33634.2604</td>\n",
       "    </tr>\n",
       "    <tr>\n",
       "      <th>2</th>\n",
       "      <td>Abby</td>\n",
       "      <td>Gamble</td>\n",
       "      <td>32803.0062</td>\n",
       "    </tr>\n",
       "    <tr>\n",
       "      <th>3</th>\n",
       "      <td>Lyndsey</td>\n",
       "      <td>Bean</td>\n",
       "      <td>32675.0725</td>\n",
       "    </tr>\n",
       "    <tr>\n",
       "      <th>4</th>\n",
       "      <td>Emmitt</td>\n",
       "      <td>Sanchez</td>\n",
       "      <td>31925.8857</td>\n",
       "    </tr>\n",
       "  </tbody>\n",
       "</table>\n",
       "</div>"
      ],
      "text/plain": [
       "  first_name last_name  total_spent\n",
       "0     Sharyn   Hopkins   34807.9392\n",
       "1    Pamelia    Newman   33634.2604\n",
       "2       Abby    Gamble   32803.0062\n",
       "3    Lyndsey      Bean   32675.0725\n",
       "4     Emmitt   Sanchez   31925.8857"
      ]
     },
     "execution_count": 31,
     "metadata": {},
     "output_type": "execute_result"
    }
   ],
   "source": [
    "# Your query here\n",
    "pd.read_sql(\"SELECT c.first_name, c.last_name, SUM(oi.quantity * oi.list_price * (1 - oi.discount)) AS total_spent FROM customers AS c JOIN orders AS o on c.customer_id = o.customer_id JOIN order_items AS oi ON o.order_id = oi.order_id GROUP BY c.customer_id, c.first_name, c.last_name ORDER BY total_spent DESC limit 5;\", connection)"
   ]
  },
  {
   "cell_type": "markdown",
   "id": "d827ad03",
   "metadata": {},
   "source": [
    "### Q9. Show the best-selling product in each category.\n",
    "\n",
    "Join `products`, `order_items`, and `categories`. For each category, identify the product with the highest total quantity sold."
   ]
  },
  {
   "cell_type": "code",
   "execution_count": 30,
   "id": "55825b3b",
   "metadata": {},
   "outputs": [
    {
     "data": {
      "text/html": [
       "<div>\n",
       "<style scoped>\n",
       "    .dataframe tbody tr th:only-of-type {\n",
       "        vertical-align: middle;\n",
       "    }\n",
       "\n",
       "    .dataframe tbody tr th {\n",
       "        vertical-align: top;\n",
       "    }\n",
       "\n",
       "    .dataframe thead th {\n",
       "        text-align: right;\n",
       "    }\n",
       "</style>\n",
       "<table border=\"1\" class=\"dataframe\">\n",
       "  <thead>\n",
       "    <tr style=\"text-align: right;\">\n",
       "      <th></th>\n",
       "      <th>category_name</th>\n",
       "      <th>product_name</th>\n",
       "      <th>total_quantity_sold</th>\n",
       "    </tr>\n",
       "  </thead>\n",
       "  <tbody>\n",
       "    <tr>\n",
       "      <th>0</th>\n",
       "      <td>Mountain Bikes</td>\n",
       "      <td>Surly Ice Cream Truck Frameset - 2016</td>\n",
       "      <td>167</td>\n",
       "    </tr>\n",
       "    <tr>\n",
       "      <th>1</th>\n",
       "      <td>Cruisers Bicycles</td>\n",
       "      <td>Electra Cruiser 1 (24-Inch) - 2016</td>\n",
       "      <td>157</td>\n",
       "    </tr>\n",
       "    <tr>\n",
       "      <th>2</th>\n",
       "      <td>Children Bicycles</td>\n",
       "      <td>Electra Girl's Hawaii 1 (20-inch) - 2015/2016</td>\n",
       "      <td>154</td>\n",
       "    </tr>\n",
       "    <tr>\n",
       "      <th>3</th>\n",
       "      <td>Cyclocross Bicycles</td>\n",
       "      <td>Surly Straggler 650b - 2016</td>\n",
       "      <td>151</td>\n",
       "    </tr>\n",
       "    <tr>\n",
       "      <th>4</th>\n",
       "      <td>Comfort Bicycles</td>\n",
       "      <td>Electra Townie Original 7D - 2015/2016</td>\n",
       "      <td>148</td>\n",
       "    </tr>\n",
       "    <tr>\n",
       "      <th>5</th>\n",
       "      <td>Electric Bikes</td>\n",
       "      <td>Trek Conduit+ - 2016</td>\n",
       "      <td>145</td>\n",
       "    </tr>\n",
       "    <tr>\n",
       "      <th>6</th>\n",
       "      <td>Road Bikes</td>\n",
       "      <td>Trek Domane SLR 6 Disc - 2017</td>\n",
       "      <td>43</td>\n",
       "    </tr>\n",
       "  </tbody>\n",
       "</table>\n",
       "</div>"
      ],
      "text/plain": [
       "         category_name                                   product_name  \\\n",
       "0       Mountain Bikes          Surly Ice Cream Truck Frameset - 2016   \n",
       "1    Cruisers Bicycles             Electra Cruiser 1 (24-Inch) - 2016   \n",
       "2    Children Bicycles  Electra Girl's Hawaii 1 (20-inch) - 2015/2016   \n",
       "3  Cyclocross Bicycles                    Surly Straggler 650b - 2016   \n",
       "4     Comfort Bicycles         Electra Townie Original 7D - 2015/2016   \n",
       "5       Electric Bikes                           Trek Conduit+ - 2016   \n",
       "6           Road Bikes                  Trek Domane SLR 6 Disc - 2017   \n",
       "\n",
       "   total_quantity_sold  \n",
       "0                  167  \n",
       "1                  157  \n",
       "2                  154  \n",
       "3                  151  \n",
       "4                  148  \n",
       "5                  145  \n",
       "6                   43  "
      ]
     },
     "execution_count": 30,
     "metadata": {},
     "output_type": "execute_result"
    }
   ],
   "source": [
    "# Your query here\n",
    "pd.read_sql(\"WITH product_sales AS (SELECT c.category_id, c.category_name, p.product_id, p.product_name, SUM(oi.quantity) AS total_quantity_sold FROM products AS p JOiN categories AS c ON p.category_id = c.category_id JOIN order_items AS oi ON p.product_id = oi.product_id GROUP BY c.category_id, c.category_name, p.product_id, p.product_name) SELECT ps.category_name, ps.product_name, ps.total_quantity_sold FROM product_sales AS ps WHERE ps.total_quantity_sold = (SELECT MAX(ps2.total_quantity_sold) FROM product_sales AS ps2 WHERE ps2.category_id = ps.category_id) ORDER BY ps.total_quantity_sold DESC;\", connection)"
   ]
  },
  {
   "cell_type": "markdown",
   "id": "4eed7dae",
   "metadata": {},
   "source": [
    "### Q10. Identify the employees (staff) who processed the most orders.\n",
    "\n",
    "Join `staffs` and `orders`. Count the number of orders handled by each staff member and return the results sorted by highest total."
   ]
  },
  {
   "cell_type": "code",
   "execution_count": null,
   "id": "632851b0",
   "metadata": {},
   "outputs": [
    {
     "data": {
      "text/html": [
       "<div>\n",
       "<style scoped>\n",
       "    .dataframe tbody tr th:only-of-type {\n",
       "        vertical-align: middle;\n",
       "    }\n",
       "\n",
       "    .dataframe tbody tr th {\n",
       "        vertical-align: top;\n",
       "    }\n",
       "\n",
       "    .dataframe thead th {\n",
       "        text-align: right;\n",
       "    }\n",
       "</style>\n",
       "<table border=\"1\" class=\"dataframe\">\n",
       "  <thead>\n",
       "    <tr style=\"text-align: right;\">\n",
       "      <th></th>\n",
       "      <th>first_name</th>\n",
       "      <th>last_name</th>\n",
       "      <th>total_orders</th>\n",
       "    </tr>\n",
       "  </thead>\n",
       "  <tbody>\n",
       "    <tr>\n",
       "      <th>0</th>\n",
       "      <td>Marcelene</td>\n",
       "      <td>Boyer</td>\n",
       "      <td>553</td>\n",
       "    </tr>\n",
       "    <tr>\n",
       "      <th>1</th>\n",
       "      <td>Venita</td>\n",
       "      <td>Daniel</td>\n",
       "      <td>540</td>\n",
       "    </tr>\n",
       "    <tr>\n",
       "      <th>2</th>\n",
       "      <td>Genna</td>\n",
       "      <td>Serrano</td>\n",
       "      <td>184</td>\n",
       "    </tr>\n",
       "    <tr>\n",
       "      <th>3</th>\n",
       "      <td>Mireya</td>\n",
       "      <td>Copeland</td>\n",
       "      <td>164</td>\n",
       "    </tr>\n",
       "    <tr>\n",
       "      <th>4</th>\n",
       "      <td>Kali</td>\n",
       "      <td>Vargas</td>\n",
       "      <td>88</td>\n",
       "    </tr>\n",
       "    <tr>\n",
       "      <th>5</th>\n",
       "      <td>Layla</td>\n",
       "      <td>Terrell</td>\n",
       "      <td>86</td>\n",
       "    </tr>\n",
       "  </tbody>\n",
       "</table>\n",
       "</div>"
      ],
      "text/plain": [
       "  first_name last_name  total_orders\n",
       "0  Marcelene     Boyer           553\n",
       "1     Venita    Daniel           540\n",
       "2      Genna   Serrano           184\n",
       "3     Mireya  Copeland           164\n",
       "4       Kali    Vargas            88\n",
       "5      Layla   Terrell            86"
      ]
     },
     "execution_count": 26,
     "metadata": {},
     "output_type": "execute_result"
    }
   ],
   "source": [
    "# Your query here\n",
    "pd.read_sql(\"SELECT s.first_name, s.last_name, COUNT(o.order_id) AS total_orders FROM staffs AS s JOIN orders AS o ON s.staff_id = o.staff_id GROUP BY s.staff_id, s.first_name, s.last_name ORDER BY total_orders DESC;\", connection)"
   ]
  }
 ],
 "metadata": {
  "kernelspec": {
   "display_name": "Python 3",
   "language": "python",
   "name": "python3"
  },
  "language_info": {
   "codemirror_mode": {
    "name": "ipython",
    "version": 3
   },
   "file_extension": ".py",
   "mimetype": "text/x-python",
   "name": "python",
   "nbconvert_exporter": "python",
   "pygments_lexer": "ipython3",
   "version": "3.13.4"
  }
 },
 "nbformat": 4,
 "nbformat_minor": 5
}
